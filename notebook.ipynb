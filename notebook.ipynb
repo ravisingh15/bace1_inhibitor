{
 "cells": [
  {
   "cell_type": "markdown",
   "id": "7fe03ce6-990b-4524-9f1e-0f5bb4131761",
   "metadata": {},
   "source": [
    "# Loading libraries"
   ]
  },
  {
   "cell_type": "code",
   "execution_count": 1,
   "id": "b5096a8e-cda6-4134-a2a8-1afce4cd100c",
   "metadata": {},
   "outputs": [
    {
     "name": "stderr",
     "output_type": "stream",
     "text": [
      "RDKit WARNING: [08:24:57] Enabling RDKit 2019.09.1 jupyter extensions\n"
     ]
    }
   ],
   "source": [
    "from rdkit import Chem\n",
    "from rdkit.Chem import AllChem\n",
    "from rdkit.Chem import Draw\n",
    "from mordred import Calculator, descriptors\n",
    "\n",
    "import pandas as pd\n",
    "import numpy as np\n",
    "\n",
    "from sklearn.preprocessing import StandardScaler\n",
    "\n",
    "from sklearn.svm import SVC\n",
    "from sklearn.ensemble import RandomForestClassifier\n"
   ]
  },
  {
   "cell_type": "markdown",
   "id": "d79fb827-b884-46b0-bf76-434208866e37",
   "metadata": {},
   "source": [
    "# Training the Machine learning models\n"
   ]
  },
  {
   "cell_type": "markdown",
   "id": "b01a330f-5cd3-479f-9f29-b4b6acce9b68",
   "metadata": {},
   "source": [
    "## Loading the data for training"
   ]
  },
  {
   "cell_type": "code",
   "execution_count": 2,
   "id": "fbd98eb5-93a1-42aa-a04a-5787a80af03a",
   "metadata": {},
   "outputs": [],
   "source": [
    "X_mordred=pd.read_csv('training_data/X_train_mordred.csv')\n",
    "X_krfp=pd.read_csv('training_data/X_train_krfp.csv')\n",
    "X_maccs=pd.read_csv('training_data/X_train_maccs.csv')\n",
    "X_pubchem=pd.read_csv('training_data/X_train_pubchem.csv')\n",
    "y_train=pd.read_csv('training_data/y_train.csv')\n",
    "y=np.ravel(y_train)"
   ]
  },
  {
   "cell_type": "code",
   "execution_count": 3,
   "id": "26247d22-16d2-4c83-854b-9e841bce91b7",
   "metadata": {
    "tags": []
   },
   "outputs": [
    {
     "data": {
      "text/plain": [
       "RandomForestClassifier(max_depth=25, min_samples_split=5, n_estimators=800,\n",
       "                       random_state=42)"
      ]
     },
     "execution_count": 3,
     "metadata": {},
     "output_type": "execute_result"
    }
   ],
   "source": [
    "#Training model for Mordred dataset\n",
    "sc = StandardScaler()\n",
    "X_mordred_normalized = sc.fit_transform(X_mordred)\n",
    "model_mordred = RandomForestClassifier(bootstrap=True,random_state=42, max_depth=10, min_samples_split= 4, n_estimators=500 )\n",
    "model_mordred.fit(X_mordred_normalized,y)\n",
    "\n",
    "#Training model for KRFP fingerprint dataset\n",
    "model_krfp=SVC(C=10, gamma=0.01, kernel= 'rbf')\n",
    "model_krfp.fit(X_krfp,y)\n",
    "\n",
    "#Training model for MACCS fingerprint\n",
    "model_maccs=RandomForestClassifier(bootstrap=True,random_state=42, max_depth=15, min_samples_split= 5, n_estimators=500 )\n",
    "model_maccs.fit(X_maccs,y)\n",
    "\n",
    "#Training model for pubchem fingerprint\n",
    "model_pubchem= RandomForestClassifier(bootstrap=True,random_state=42, max_depth=25, min_samples_split= 5, n_estimators=800 )\n",
    "model_pubchem.fit(X_pubchem,y)"
   ]
  },
  {
   "cell_type": "markdown",
   "id": "6d1fc657-1858-48fc-baa3-913c3910fff4",
   "metadata": {},
   "source": [
    "# Predicting the user's data"
   ]
  },
  {
   "cell_type": "markdown",
   "id": "d86ae87e-3865-42b6-8f99-7aec70d7a2de",
   "metadata": {},
   "source": [
    "## For predicting Mordred's data using smiles"
   ]
  },
  {
   "cell_type": "code",
   "execution_count": 6,
   "id": "0370f057-c0ce-42ef-9937-72838a7d3e14",
   "metadata": {},
   "outputs": [
    {
     "name": "stdin",
     "output_type": "stream",
     "text": [
      "Please enter smiles : c1ccccc1\n"
     ]
    }
   ],
   "source": [
    "smile=input('Please enter smiles :')"
   ]
  },
  {
   "cell_type": "code",
   "execution_count": 7,
   "id": "1e6f7e0e-d48a-48f9-a7aa-deecab18434a",
   "metadata": {},
   "outputs": [],
   "source": [
    "mol = Chem.MolFromSmiles(smile)\n",
    "mordred_descriptors = Calculator(descriptors, ignore_3D=True)\n",
    "descriptor_list = list(mordred_descriptors._name_dict.keys())\n",
    "calcu=mordred_descriptors(mol)\n",
    "df=pd.DataFrame(calcu,index=descriptor_list)\n",
    "df_1=df.T\n",
    "data=pd.DataFrame(df_1,columns=X_mordred.columns.tolist())\n",
    "data=sc.transform(data)\n",
    "y_pred=model_mordred.predict(data)\n",
    "\n",
    "for i in y_pred:\n",
    "    if i==0:\n",
    "        print('Inactive')\n",
    "    if i==1:\n",
    "        print('Active')\n",
    "    "
   ]
  },
  {
   "cell_type": "markdown",
   "id": "63ab0878-90c0-4b52-a09c-8c23e3cdd780",
   "metadata": {},
   "source": [
    "## For predicting activity based on KRFP fingerprint data"
   ]
  },
  {
   "cell_type": "markdown",
   "id": "a004cba2-044f-4f52-839c-093bc7b80e2a",
   "metadata": {},
   "source": [
    "### Enter the csv file name within ' '."
   ]
  },
  {
   "cell_type": "code",
   "execution_count": null,
   "id": "970753eb-d835-4b4a-9aa9-0b8b623b1e66",
   "metadata": {},
   "outputs": [],
   "source": [
    "data_krfp=pd.read_csv('')"
   ]
  },
  {
   "cell_type": "code",
   "execution_count": null,
   "id": "53ecbb57-91b2-4874-bf1c-35951969e1e1",
   "metadata": {},
   "outputs": [],
   "source": [
    "data=pd.Dataframe(data_krfp, columns=X_krfp.columns.tolist())\n",
    "y_pred=model_krfp.predict(data)\n",
    "for i in y_pred:\n",
    "    if i==0:\n",
    "        print('Inactive')\n",
    "    if i==1:\n",
    "        print('Active')\n",
    "    "
   ]
  },
  {
   "cell_type": "markdown",
   "id": "da362de3-d4f4-41ae-98a0-e42011180c43",
   "metadata": {},
   "source": [
    "## For predicting activity based on MACCS fingerprint data"
   ]
  },
  {
   "cell_type": "markdown",
   "id": "435a0457-0c02-421f-b753-cccfa3144beb",
   "metadata": {},
   "source": [
    "### Enter the csv file name within ' '."
   ]
  },
  {
   "cell_type": "code",
   "execution_count": null,
   "id": "6143480d-e32e-4d06-9a32-13f57d384e8d",
   "metadata": {},
   "outputs": [],
   "source": [
    "data_maccs=pd.read_csv('')"
   ]
  },
  {
   "cell_type": "code",
   "execution_count": null,
   "id": "2af206f5-0be6-4ee7-8330-f191a3dbdb9a",
   "metadata": {},
   "outputs": [],
   "source": [
    "data=pd.Dataframe(data_maccs, columns=X_maccs.columns.tolist())\n",
    "y_pred=model_maccs.predict(data)\n",
    "for i in y_pred:\n",
    "    if i==0:\n",
    "        print('Inactive')\n",
    "    if i==1:\n",
    "        print('Active')\n",
    "    "
   ]
  },
  {
   "cell_type": "markdown",
   "id": "5bfc6fe0-c7a6-4611-8687-79c880803c2e",
   "metadata": {},
   "source": [
    "## For predicting activity based on MACCS fingerprint data"
   ]
  },
  {
   "cell_type": "markdown",
   "id": "84216392-1b9a-48f5-9334-53baf84f187b",
   "metadata": {},
   "source": [
    "### Enter the csv file name within ' '."
   ]
  },
  {
   "cell_type": "code",
   "execution_count": null,
   "id": "05a9c29d-1137-4734-a53c-e90d380ddf1d",
   "metadata": {},
   "outputs": [],
   "source": [
    "data_pubchem=pd.read_csv('')"
   ]
  },
  {
   "cell_type": "code",
   "execution_count": null,
   "id": "516653a3-8fc2-4167-ae68-ec4a6e3fcf8f",
   "metadata": {},
   "outputs": [],
   "source": [
    "data=pd.Dataframe(data_pubchem, columns=X_pubchem.columns.tolist())\n",
    "y_pred=model_pubchem.predict(data)\n",
    "for i in y_pred:\n",
    "    if i==0:\n",
    "        print('Inactive')\n",
    "    if i==1:\n",
    "        print('Active')\n",
    "    "
   ]
  }
 ],
 "metadata": {
  "kernelspec": {
   "display_name": "Python 3",
   "language": "python",
   "name": "python3"
  },
  "language_info": {
   "codemirror_mode": {
    "name": "ipython",
    "version": 3
   },
   "file_extension": ".py",
   "mimetype": "text/x-python",
   "name": "python",
   "nbconvert_exporter": "python",
   "pygments_lexer": "ipython3",
   "version": "3.7.10"
  }
 },
 "nbformat": 4,
 "nbformat_minor": 5
}
